{
 "cells": [
  {
   "cell_type": "code",
   "execution_count": 1,
   "metadata": {},
   "outputs": [],
   "source": [
    "from pathlib import Path\n",
    "\n",
    "from experiments.experiment_utils import PymooExperimenter"
   ]
  },
  {
   "cell_type": "code",
   "execution_count": 2,
   "metadata": {},
   "outputs": [
    {
     "name": "stdout",
     "output_type": "stream",
     "text": [
      "Loaded Checkpoint: <pymoo.core.result.Result object at 0x168fb4130>\n",
      "make: `enroads' is up to date.\n",
      "make: `enroads' is up to date.\n",
      "Loaded Checkpoint: <pymoo.core.result.Result object at 0x174f651b0>\n",
      "make: `enroads' is up to date.\n",
      "make: `enroads' is up to date.\n"
     ]
    }
   ],
   "source": [
    "no_time_dir = Path(\"results/pymoo/year-exp/notime-seeded\")\n",
    "time_dir = Path(\"results/pymoo/year-exp/time-seeded\")\n",
    "\n",
    "no_experimenter = PymooExperimenter(no_time_dir)\n",
    "time_experimenter = PymooExperimenter(time_dir)"
   ]
  }
 ],
 "metadata": {
  "kernelspec": {
   "display_name": "enroads",
   "language": "python",
   "name": "python3"
  },
  "language_info": {
   "codemirror_mode": {
    "name": "ipython",
    "version": 3
   },
   "file_extension": ".py",
   "mimetype": "text/x-python",
   "name": "python",
   "nbconvert_exporter": "python",
   "pygments_lexer": "ipython3",
   "version": "3.10.14"
  }
 },
 "nbformat": 4,
 "nbformat_minor": 2
}
